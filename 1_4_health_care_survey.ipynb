{
 "cells": [
  {
   "cell_type": "code",
   "execution_count": 1,
   "id": "35ba4434-6f56-4008-b388-dbb9a1d2be6a",
   "metadata": {},
   "outputs": [],
   "source": [
    "import polars as pl"
   ]
  },
  {
   "cell_type": "markdown",
   "id": "60887d35-6168-4b46-b1d8-077856f351f4",
   "metadata": {},
   "source": [
    "# Why use relative addresses?\n",
    "\n",
    "In this notebook, we will illustrate \n",
    "\n",
    "1. That relative addresses for loading data files works, but\n",
    "2. Using absolute addresses for loading data files *will not*."
   ]
  },
  {
   "cell_type": "markdown",
   "id": "9e71dd7c-a5df-49da-af06-279adb78ab7a",
   "metadata": {},
   "source": [
    "## Problem 1 - Load the `lat_long_example.csv` file using a relative address.\n",
    "\n",
    "**Tasks.**\n",
    "1. Open a terminal, start `nu`, and navigate to the root menu of your first/primary data repository,\n",
    "2. Use `ls **/*` to get the relative address of `lat_long_example.csv`, and\n",
    "3. Use `polars` to load and inspect these data using this relative path."
   ]
  },
  {
   "cell_type": "code",
   "execution_count": 2,
   "id": "449783a9-db7e-4d92-b45a-2ba0088916bd",
   "metadata": {},
   "outputs": [],
   "source": [
    "relative_path = \"./data/lat_long_examples.csv\""
   ]
  },
  {
   "cell_type": "code",
   "execution_count": 3,
   "id": "79d2bdb3-4125-4027-9110-387b75cbfe6d",
   "metadata": {},
   "outputs": [
    {
     "data": {
      "text/html": [
       "<div><style>\n",
       ".dataframe > thead > tr,\n",
       ".dataframe > tbody > tr {\n",
       "  text-align: right;\n",
       "  white-space: pre-wrap;\n",
       "}\n",
       "</style>\n",
       "<small>shape: (2, 7)</small><table border=\"1\" class=\"dataframe\"><thead><tr><th>City 1</th><th>Lat 1</th><th>Long 1</th><th>City 2</th><th>Lat 2</th><th>Long 2</th><th>Distance from Web (km)</th></tr><tr><td>str</td><td>f64</td><td>f64</td><td>str</td><td>f64</td><td>f64</td><td>f64</td></tr></thead><tbody><tr><td>&quot;Winona, MN&quot;</td><td>44.050556</td><td>-91.66833</td><td>&quot;Ames, IA&quot;</td><td>42.018056</td><td>-93.62</td><td>276.48</td></tr><tr><td>&quot;Glagow, Scotland, UK&quot;</td><td>55.861111</td><td>-4.25</td><td>&quot;Ames, IA&quot;</td><td>42.018056</td><td>-93.62</td><td>6237.63</td></tr></tbody></table></div>"
      ],
      "text/plain": [
       "shape: (2, 7)\n",
       "┌─────────────────────┬───────────┬───────────┬──────────┬───────────┬────────┬────────────────────┐\n",
       "│ City 1              ┆ Lat 1     ┆ Long 1    ┆ City 2   ┆ Lat 2     ┆ Long 2 ┆ Distance from Web  │\n",
       "│ ---                 ┆ ---       ┆ ---       ┆ ---      ┆ ---       ┆ ---    ┆ (km)               │\n",
       "│ str                 ┆ f64       ┆ f64       ┆ str      ┆ f64       ┆ f64    ┆ ---                │\n",
       "│                     ┆           ┆           ┆          ┆           ┆        ┆ f64                │\n",
       "╞═════════════════════╪═══════════╪═══════════╪══════════╪═══════════╪════════╪════════════════════╡\n",
       "│ Winona, MN          ┆ 44.050556 ┆ -91.66833 ┆ Ames, IA ┆ 42.018056 ┆ -93.62 ┆ 276.48             │\n",
       "│ Glagow, Scotland,   ┆ 55.861111 ┆ -4.25     ┆ Ames, IA ┆ 42.018056 ┆ -93.62 ┆ 6237.63            │\n",
       "│ UK                  ┆           ┆           ┆          ┆           ┆        ┆                    │\n",
       "└─────────────────────┴───────────┴───────────┴──────────┴───────────┴────────┴────────────────────┘"
      ]
     },
     "execution_count": 3,
     "metadata": {},
     "output_type": "execute_result"
    }
   ],
   "source": [
    "(lat_lng_example :=\n",
    " pl.read_csv(relative_path)\n",
    ")"
   ]
  },
  {
   "cell_type": "markdown",
   "id": "a173049f-b638-426f-adb3-0a9a13251ccb",
   "metadata": {},
   "source": [
    "## Problem 2 - Load the `lat_long_example.csv` file using a absolute address.\n",
    "\n",
    "**Tasks.**\n",
    "1. Open a terminal, start `nu`, and navigate to the root menu of *one of your first/primary data repository,\n",
    "2. Use `glob **/*` to get the absolute address of `lat_long_example.csv`, and\n",
    "3. Use `polars` to load and inspect these data."
   ]
  },
  {
   "cell_type": "code",
   "execution_count": 4,
   "id": "68846b35-bf00-43ee-8de9-893a70a2c389",
   "metadata": {},
   "outputs": [],
   "source": [
    "absolute_path = \"C:/Users/ym5765bo/health_survey/data/lat_long_examples.csv\""
   ]
  },
  {
   "cell_type": "code",
   "execution_count": 5,
   "id": "92fc5bf7-f898-4ac6-934a-c5fc8e23d365",
   "metadata": {
    "scrolled": true
   },
   "outputs": [
    {
     "data": {
      "text/html": [
       "<div><style>\n",
       ".dataframe > thead > tr,\n",
       ".dataframe > tbody > tr {\n",
       "  text-align: right;\n",
       "  white-space: pre-wrap;\n",
       "}\n",
       "</style>\n",
       "<small>shape: (2, 7)</small><table border=\"1\" class=\"dataframe\"><thead><tr><th>City 1</th><th>Lat 1</th><th>Long 1</th><th>City 2</th><th>Lat 2</th><th>Long 2</th><th>Distance from Web (km)</th></tr><tr><td>str</td><td>f64</td><td>f64</td><td>str</td><td>f64</td><td>f64</td><td>f64</td></tr></thead><tbody><tr><td>&quot;Winona, MN&quot;</td><td>44.050556</td><td>-91.66833</td><td>&quot;Ames, IA&quot;</td><td>42.018056</td><td>-93.62</td><td>276.48</td></tr><tr><td>&quot;Glagow, Scotland, UK&quot;</td><td>55.861111</td><td>-4.25</td><td>&quot;Ames, IA&quot;</td><td>42.018056</td><td>-93.62</td><td>6237.63</td></tr></tbody></table></div>"
      ],
      "text/plain": [
       "shape: (2, 7)\n",
       "┌─────────────────────┬───────────┬───────────┬──────────┬───────────┬────────┬────────────────────┐\n",
       "│ City 1              ┆ Lat 1     ┆ Long 1    ┆ City 2   ┆ Lat 2     ┆ Long 2 ┆ Distance from Web  │\n",
       "│ ---                 ┆ ---       ┆ ---       ┆ ---      ┆ ---       ┆ ---    ┆ (km)               │\n",
       "│ str                 ┆ f64       ┆ f64       ┆ str      ┆ f64       ┆ f64    ┆ ---                │\n",
       "│                     ┆           ┆           ┆          ┆           ┆        ┆ f64                │\n",
       "╞═════════════════════╪═══════════╪═══════════╪══════════╪═══════════╪════════╪════════════════════╡\n",
       "│ Winona, MN          ┆ 44.050556 ┆ -91.66833 ┆ Ames, IA ┆ 42.018056 ┆ -93.62 ┆ 276.48             │\n",
       "│ Glagow, Scotland,   ┆ 55.861111 ┆ -4.25     ┆ Ames, IA ┆ 42.018056 ┆ -93.62 ┆ 6237.63            │\n",
       "│ UK                  ┆           ┆           ┆          ┆           ┆        ┆                    │\n",
       "└─────────────────────┴───────────┴───────────┴──────────┴───────────┴────────┴────────────────────┘"
      ]
     },
     "execution_count": 5,
     "metadata": {},
     "output_type": "execute_result"
    }
   ],
   "source": [
    "(lat_lng_example :=\n",
    " pl.read_csv(absolute_path)\n",
    ")"
   ]
  },
  {
   "cell_type": "markdown",
   "id": "00c0dabf-a89a-40fb-af89-a4f8302dec41",
   "metadata": {},
   "source": [
    "## Illustrating the problem with absolute addresses\n",
    "\n",
    "While the relative address in problem 1 points to the data IN THIS COPY of the repo, the absolute address points to the data in EXACTLY one of the copies of the repository. This becomes a problem if (A) anything changes in that repository, or (B) we are working on a different machine.\n",
    "\n",
    "**Tasks.** To illustrate why this is a problem, do the following.\n",
    "\n",
    "1. From your first/primary repository commit and push this notebook to GitHub,\n",
    "2. Fetch and pull this notebook to another local copy of the repository,\n",
    "3. In your file explorer (Files or Finder), move your first/primary repository into another folder, e.g., make a new folder and drag-and-drop the repo.\n",
    "4. Rerun the cells in each local copy of the repository and document your findings in the WORD document. "
   ]
  },
  {
   "cell_type": "code",
   "execution_count": null,
   "id": "027d1f4f-1809-411b-9f6e-40275ad880b6",
   "metadata": {},
   "outputs": [],
   "source": []
  },
  {
   "cell_type": "code",
   "execution_count": 57,
   "id": "7311e378-dcb8-48e5-80ee-6a70c264a869",
   "metadata": {},
   "outputs": [
    {
     "data": {
      "text/html": [
       "<div><style>\n",
       ".dataframe > thead > tr,\n",
       ".dataframe > tbody > tr {\n",
       "  text-align: right;\n",
       "  white-space: pre-wrap;\n",
       "}\n",
       "</style>\n",
       "<small>shape: (5, 2)</small><table border=\"1\" class=\"dataframe\"><thead><tr><th>Needs Reverse Coding?</th><th>Column Name</th></tr><tr><td>str</td><td>str</td></tr></thead><tbody><tr><td>&quot;No&quot;</td><td>&quot;F1&quot;</td></tr><tr><td>&quot;Yes&quot;</td><td>&quot;F5&quot;</td></tr><tr><td>&quot;No&quot;</td><td>&quot;F2&quot;</td></tr><tr><td>&quot;No&quot;</td><td>&quot;F1.1&quot;</td></tr><tr><td>&quot;No&quot;</td><td>&quot;F2.1&quot;</td></tr></tbody></table></div>"
      ],
      "text/plain": [
       "shape: (5, 2)\n",
       "┌───────────────────────┬─────────────┐\n",
       "│ Needs Reverse Coding? ┆ Column Name │\n",
       "│ ---                   ┆ ---         │\n",
       "│ str                   ┆ str         │\n",
       "╞═══════════════════════╪═════════════╡\n",
       "│ No                    ┆ F1          │\n",
       "│ Yes                   ┆ F5          │\n",
       "│ No                    ┆ F2          │\n",
       "│ No                    ┆ F1.1        │\n",
       "│ No                    ┆ F2.1        │\n",
       "└───────────────────────┴─────────────┘"
      ]
     },
     "execution_count": 57,
     "metadata": {},
     "output_type": "execute_result"
    }
   ],
   "source": [
    "## data managment using polars \n",
    "reversecode= \"./data/ReverseCodingItems.csv\"\n",
    "reverse=pl.read_csv(reversecode , columns =[\"Column Name\", \"Needs Reverse Coding?\",])\n",
    "reverse.head(5)\n"
   ]
  },
  {
   "cell_type": "code",
   "execution_count": 58,
   "id": "348336ad-6f4c-4515-b7f6-3ec563be7741",
   "metadata": {},
   "outputs": [
    {
     "data": {
      "text/html": [
       "<div><style>\n",
       ".dataframe > thead > tr,\n",
       ".dataframe > tbody > tr {\n",
       "  text-align: right;\n",
       "  white-space: pre-wrap;\n",
       "}\n",
       "</style>\n",
       "<small>shape: (5, 45)</small><table border=\"1\" class=\"dataframe\"><thead><tr><th>ID</th><th>F1</th><th>F5</th><th>F2</th><th>F1.1</th><th>F2.1</th><th>F6</th><th>F4</th><th>F3</th><th>F5.1</th><th>F1.2</th><th>F2.2</th><th>F6.1</th><th>F2.3</th><th>F4.1</th><th>F2.4</th><th>F5.2</th><th>F2.5</th><th>F6.2</th><th>F1.3</th><th>F2.6</th><th>F5.3</th><th>F4.2</th><th>F2.7</th><th>F3.1</th><th>F2.8</th><th>F5.4</th><th>F3.2</th><th>F1.4</th><th>F3.3</th><th>F1.5</th><th>F5.5</th><th>F6.3</th><th>F1.6</th><th>F5.6</th><th>F2.9</th><th>F3.4</th><th>F4.3</th><th>F2.10</th><th>F1.7</th><th>F6.4</th><th>F4.4</th><th>F5.7</th><th>F3.5</th><th>F2.11</th></tr><tr><td>i64</td><td>str</td><td>str</td><td>str</td><td>str</td><td>str</td><td>str</td><td>str</td><td>str</td><td>str</td><td>str</td><td>str</td><td>str</td><td>str</td><td>str</td><td>str</td><td>str</td><td>str</td><td>str</td><td>str</td><td>str</td><td>str</td><td>str</td><td>str</td><td>str</td><td>str</td><td>str</td><td>str</td><td>str</td><td>str</td><td>str</td><td>str</td><td>str</td><td>str</td><td>str</td><td>str</td><td>str</td><td>str</td><td>str</td><td>str</td><td>str</td><td>str</td><td>str</td><td>str</td><td>str</td></tr></thead><tbody><tr><td>1</td><td>&quot;Somewhat Agree&quot;</td><td>&quot;Somewhat Disagree&quot;</td><td>&quot;Somewhat Agree&quot;</td><td>&quot;Somewhat Agree&quot;</td><td>&quot;Somewhat Agree&quot;</td><td>&quot;Somewhat Disagree&quot;</td><td>&quot;Somewhat Agree&quot;</td><td>&quot;Somewhat Agree&quot;</td><td>&quot;Somewhat Agree&quot;</td><td>&quot;Somewhat Agree&quot;</td><td>&quot;Somewhat Agree&quot;</td><td>&quot;Somewhat Agree&quot;</td><td>&quot;Somewhat Agree&quot;</td><td>&quot;Somewhat Agree&quot;</td><td>&quot;Somewhat Agree&quot;</td><td>&quot;Somewhat Agree&quot;</td><td>&quot;Somewhat Agree&quot;</td><td>&quot;Somewhat Agree&quot;</td><td>&quot;Somewhat Agree&quot;</td><td>&quot;Somewhat Agree&quot;</td><td>&quot;Somewhat Agree&quot;</td><td>&quot;Somewhat Agree&quot;</td><td>&quot;Somewhat Agree&quot;</td><td>&quot;Somewhat Disagree&quot;</td><td>&quot;Somewhat Agree&quot;</td><td>&quot;Somewhat Agree&quot;</td><td>&quot;Somewhat Agree&quot;</td><td>&quot;Neither Agree nor Disagree&quot;</td><td>&quot;Somewhat Agree&quot;</td><td>&quot;Somewhat Agree&quot;</td><td>&quot;Somewhat Disagree&quot;</td><td>&quot;Somewhat Disagree&quot;</td><td>&quot;Somewhat Agree&quot;</td><td>&quot;Somewhat Agree&quot;</td><td>&quot;Somewhat Agree&quot;</td><td>&quot;Somewhat Disagree&quot;</td><td>&quot;Neither Agree nor Disagree&quot;</td><td>&quot;Somewhat Agree&quot;</td><td>&quot;Somewhat Agree&quot;</td><td>&quot;Somewhat Agree&quot;</td><td>&quot;Somewhat Agree&quot;</td><td>&quot;Somewhat Agree&quot;</td><td>&quot;Somewhat Agree&quot;</td><td>&quot;Somewhat Agree&quot;</td></tr><tr><td>2</td><td>&quot;Somewhat Agree&quot;</td><td>&quot;Somewhat Disagree&quot;</td><td>&quot;Somewhat Agree&quot;</td><td>&quot;Somewhat Agree&quot;</td><td>&quot;Somewhat Agree&quot;</td><td>&quot;Somewhat Disagree&quot;</td><td>&quot;Somewhat Agree&quot;</td><td>&quot;Neither Agree nor Disagree&quot;</td><td>&quot;Neither Agree nor Disagree&quot;</td><td>&quot;Somewhat Agree&quot;</td><td>&quot;Neither Agree nor Disagree&quot;</td><td>&quot;Somewhat Agree&quot;</td><td>&quot;Somewhat Agree&quot;</td><td>&quot;Neither Agree nor Disagree&quot;</td><td>&quot;Somewhat Agree&quot;</td><td>&quot;Somewhat Agree&quot;</td><td>&quot;Somewhat Agree&quot;</td><td>&quot;Somewhat Agree&quot;</td><td>&quot;Somewhat Agree&quot;</td><td>&quot;Somewhat Agree&quot;</td><td>&quot;Somewhat Agree&quot;</td><td>&quot;Somewhat Agree&quot;</td><td>&quot;Somewhat Agree&quot;</td><td>&quot;Neither Agree nor Disagree&quot;</td><td>&quot;Somewhat Agree&quot;</td><td>&quot;Neither Agree nor Disagree&quot;</td><td>&quot;Neither Agree nor Disagree&quot;</td><td>&quot;Somewhat Agree&quot;</td><td>&quot;Neither Agree nor Disagree&quot;</td><td>&quot;Neither Agree nor Disagree&quot;</td><td>&quot;Neither Agree nor Disagree&quot;</td><td>&quot;Somewhat Disagree&quot;</td><td>&quot;Somewhat Agree&quot;</td><td>&quot;Somewhat Disagree&quot;</td><td>&quot;Somewhat Agree&quot;</td><td>&quot;Somewhat Agree&quot;</td><td>&quot;Neither Agree nor Disagree&quot;</td><td>&quot;Somewhat Agree&quot;</td><td>&quot;Somewhat Agree&quot;</td><td>&quot;Somewhat Disagree&quot;</td><td>&quot;Neither Agree nor Disagree&quot;</td><td>&quot;Somewhat Agree&quot;</td><td>&quot;Neither Agree nor Disagree&quot;</td><td>&quot;Somewhat Agree&quot;</td></tr><tr><td>3</td><td>&quot;Strongly Agree&quot;</td><td>&quot;Neither Agree nor Disagree&quot;</td><td>&quot;Somewhat Agree&quot;</td><td>&quot;Strongly Agree&quot;</td><td>&quot;Strongly Agree&quot;</td><td>&quot;Somewhat Disagree&quot;</td><td>&quot;Somewhat Agree&quot;</td><td>&quot;Somewhat Agree&quot;</td><td>&quot;Somewhat Agree&quot;</td><td>&quot;Strongly Agree&quot;</td><td>&quot;Somewhat Agree&quot;</td><td>&quot;Neither Agree nor Disagree&quot;</td><td>&quot;Somewhat Agree&quot;</td><td>&quot;Neither Agree nor Disagree&quot;</td><td>&quot;Somewhat Agree&quot;</td><td>&quot;Somewhat Disagree&quot;</td><td>&quot;Strongly Agree&quot;</td><td>&quot;Somewhat Agree&quot;</td><td>&quot;Strongly Agree&quot;</td><td>&quot;Somewhat Agree&quot;</td><td>&quot;Somewhat Agree&quot;</td><td>&quot;Somewhat Agree&quot;</td><td>null</td><td>&quot;Somewhat Disagree&quot;</td><td>&quot;Somewhat Agree&quot;</td><td>&quot;Somewhat Agree&quot;</td><td>&quot;Somewhat Agree&quot;</td><td>&quot;Somewhat Disagree&quot;</td><td>&quot;Somewhat Agree&quot;</td><td>&quot;Strongly Agree&quot;</td><td>&quot;Somewhat Disagree&quot;</td><td>&quot;Somewhat Disagree&quot;</td><td>&quot;Strongly Agree&quot;</td><td>&quot;Somewhat Disagree&quot;</td><td>&quot;Somewhat Agree&quot;</td><td>&quot;Somewhat Agree&quot;</td><td>&quot;Neither Agree nor Disagree&quot;</td><td>&quot;Somewhat Agree&quot;</td><td>&quot;Somewhat Agree&quot;</td><td>&quot;Somewhat Agree&quot;</td><td>&quot;Somewhat Agree&quot;</td><td>&quot;Strongly Agree&quot;</td><td>&quot;Strongly Disagree&quot;</td><td>&quot;Somewhat Agree&quot;</td></tr><tr><td>4</td><td>&quot;Somewhat Agree&quot;</td><td>&quot;Somewhat Agree&quot;</td><td>&quot;Strongly Agree&quot;</td><td>&quot;Somewhat Agree&quot;</td><td>&quot;Strongly Agree&quot;</td><td>&quot;Neither Agree nor Disagree&quot;</td><td>&quot;Neither Agree nor Disagree&quot;</td><td>&quot;Somewhat Disagree&quot;</td><td>&quot;Somewhat Agree&quot;</td><td>&quot;Strongly Agree&quot;</td><td>&quot;Strongly Agree&quot;</td><td>&quot;Somewhat Agree&quot;</td><td>&quot;Somewhat Agree&quot;</td><td>&quot;Neither Agree nor Disagree&quot;</td><td>&quot;Strongly Agree&quot;</td><td>&quot;Somewhat Disagree&quot;</td><td>&quot;Strongly Agree&quot;</td><td>&quot;Somewhat Agree&quot;</td><td>&quot;Somewhat Agree&quot;</td><td>&quot;Strongly Agree&quot;</td><td>&quot;Somewhat Agree&quot;</td><td>&quot;Somewhat Agree&quot;</td><td>&quot;Somewhat Agree&quot;</td><td>&quot;Somewhat Disagree&quot;</td><td>&quot;Somewhat Agree&quot;</td><td>&quot;Somewhat Agree&quot;</td><td>&quot;Somewhat Disagree&quot;</td><td>&quot;Neither Agree nor Disagree&quot;</td><td>&quot;Somewhat Disagree&quot;</td><td>&quot;Somewhat Agree&quot;</td><td>&quot;Somewhat Disagree&quot;</td><td>&quot;Somewhat Agree&quot;</td><td>&quot;Strongly Agree&quot;</td><td>&quot;Somewhat Disagree&quot;</td><td>&quot;Somewhat Agree&quot;</td><td>&quot;Somewhat Disagree&quot;</td><td>&quot;Somewhat Agree&quot;</td><td>&quot;Somewhat Agree&quot;</td><td>&quot;Neither Agree nor Disagree&quot;</td><td>&quot;Neither Agree nor Disagree&quot;</td><td>&quot;Neither Agree nor Disagree&quot;</td><td>&quot;Somewhat Agree&quot;</td><td>&quot;Somewhat Disagree&quot;</td><td>&quot;Somewhat Agree&quot;</td></tr><tr><td>5</td><td>&quot;Strongly Agree&quot;</td><td>&quot;Strongly Disagree&quot;</td><td>&quot;Neither Agree nor Disagree&quot;</td><td>&quot;Strongly Agree&quot;</td><td>&quot;Somewhat Agree&quot;</td><td>&quot;Strongly Disagree&quot;</td><td>&quot;Strongly Agree&quot;</td><td>&quot;Somewhat Agree&quot;</td><td>&quot;Neither Agree nor Disagree&quot;</td><td>&quot;Strongly Agree&quot;</td><td>&quot;Somewhat Agree&quot;</td><td>&quot;Somewhat Agree&quot;</td><td>&quot;Somewhat Disagree&quot;</td><td>&quot;Neither Agree nor Disagree&quot;</td><td>&quot;Somewhat Agree&quot;</td><td>&quot;Strongly Disagree&quot;</td><td>&quot;Strongly Agree&quot;</td><td>&quot;Strongly Agree&quot;</td><td>&quot;Strongly Agree&quot;</td><td>&quot;Strongly Agree&quot;</td><td>&quot;Strongly Agree&quot;</td><td>&quot;Somewhat Agree&quot;</td><td>&quot;Somewhat Agree&quot;</td><td>&quot;Somewhat Agree&quot;</td><td>&quot;Somewhat Agree&quot;</td><td>&quot;Neither Agree nor Disagree&quot;</td><td>&quot;Somewhat Agree&quot;</td><td>&quot;Somewhat Agree&quot;</td><td>&quot;Somewhat Agree&quot;</td><td>&quot;Somewhat Agree&quot;</td><td>&quot;Strongly Disagree&quot;</td><td>&quot;Neither Agree nor Disagree&quot;</td><td>&quot;Strongly Agree&quot;</td><td>&quot;Strongly Disagree&quot;</td><td>&quot;Somewhat Agree&quot;</td><td>&quot;Somewhat Agree&quot;</td><td>&quot;Neither Agree nor Disagree&quot;</td><td>&quot;Somewhat Agree&quot;</td><td>&quot;Somewhat Agree&quot;</td><td>&quot;Somewhat Agree&quot;</td><td>&quot;Somewhat Agree&quot;</td><td>&quot;Strongly Agree&quot;</td><td>&quot;Somewhat Disagree&quot;</td><td>&quot;Somewhat Agree&quot;</td></tr></tbody></table></div>"
      ],
      "text/plain": [
       "shape: (5, 45)\n",
       "┌─────┬────────────┬────────────┬────────────┬───┬────────────┬────────────┬───────────┬───────────┐\n",
       "│ ID  ┆ F1         ┆ F5         ┆ F2         ┆ … ┆ F4.4       ┆ F5.7       ┆ F3.5      ┆ F2.11     │\n",
       "│ --- ┆ ---        ┆ ---        ┆ ---        ┆   ┆ ---        ┆ ---        ┆ ---       ┆ ---       │\n",
       "│ i64 ┆ str        ┆ str        ┆ str        ┆   ┆ str        ┆ str        ┆ str       ┆ str       │\n",
       "╞═════╪════════════╪════════════╪════════════╪═══╪════════════╪════════════╪═══════════╪═══════════╡\n",
       "│ 1   ┆ Somewhat   ┆ Somewhat   ┆ Somewhat   ┆ … ┆ Somewhat   ┆ Somewhat   ┆ Somewhat  ┆ Somewhat  │\n",
       "│     ┆ Agree      ┆ Disagree   ┆ Agree      ┆   ┆ Agree      ┆ Agree      ┆ Agree     ┆ Agree     │\n",
       "│ 2   ┆ Somewhat   ┆ Somewhat   ┆ Somewhat   ┆ … ┆ Neither    ┆ Somewhat   ┆ Neither   ┆ Somewhat  │\n",
       "│     ┆ Agree      ┆ Disagree   ┆ Agree      ┆   ┆ Agree nor  ┆ Agree      ┆ Agree nor ┆ Agree     │\n",
       "│     ┆            ┆            ┆            ┆   ┆ Disagree   ┆            ┆ Disagree  ┆           │\n",
       "│ 3   ┆ Strongly   ┆ Neither    ┆ Somewhat   ┆ … ┆ Somewhat   ┆ Strongly   ┆ Strongly  ┆ Somewhat  │\n",
       "│     ┆ Agree      ┆ Agree nor  ┆ Agree      ┆   ┆ Agree      ┆ Agree      ┆ Disagree  ┆ Agree     │\n",
       "│     ┆            ┆ Disagree   ┆            ┆   ┆            ┆            ┆           ┆           │\n",
       "│ 4   ┆ Somewhat   ┆ Somewhat   ┆ Strongly   ┆ … ┆ Neither    ┆ Somewhat   ┆ Somewhat  ┆ Somewhat  │\n",
       "│     ┆ Agree      ┆ Agree      ┆ Agree      ┆   ┆ Agree nor  ┆ Agree      ┆ Disagree  ┆ Agree     │\n",
       "│     ┆            ┆            ┆            ┆   ┆ Disagree   ┆            ┆           ┆           │\n",
       "│ 5   ┆ Strongly   ┆ Strongly   ┆ Neither    ┆ … ┆ Somewhat   ┆ Strongly   ┆ Somewhat  ┆ Somewhat  │\n",
       "│     ┆ Agree      ┆ Disagree   ┆ Agree nor  ┆   ┆ Agree      ┆ Agree      ┆ Disagree  ┆ Agree     │\n",
       "│     ┆            ┆            ┆ Disagree   ┆   ┆            ┆            ┆           ┆           │\n",
       "└─────┴────────────┴────────────┴────────────┴───┴────────────┴────────────┴───────────┴───────────┘"
      ]
     },
     "execution_count": 58,
     "metadata": {},
     "output_type": "execute_result"
    }
   ],
   "source": [
    "health_survey= \"./data/health_survey.csv\"\n",
    "survey=pl.read_csv(health_survey)\n",
    "survey.head()"
   ]
  },
  {
   "cell_type": "code",
   "execution_count": 60,
   "id": "36717449-18c0-4062-b970-29e6da350662",
   "metadata": {},
   "outputs": [
    {
     "data": {
      "text/plain": [
       "[None,\n",
       " 'Somewhat Agree',\n",
       " 'Somewhat Disagree',\n",
       " 'Strongly Agree',\n",
       " 'Neither Agree nor Disagree',\n",
       " 'Strongly Disagree']"
      ]
     },
     "execution_count": 60,
     "metadata": {},
     "output_type": "execute_result"
    }
   ],
   "source": [
    "(survey\n",
    " .drop ('ID')\n",
    " .unpivot()['value']\n",
    ".unique()\n",
    " .to_list()\n",
    ")"
   ]
  },
  {
   "cell_type": "code",
   "execution_count": 65,
   "id": "ba330cb6-e37a-4501-92ce-644432091793",
   "metadata": {},
   "outputs": [
    {
     "data": {
      "text/plain": [
       "{'Somewhat Agree': 5,\n",
       " 'Somewhat Disagree': 4,\n",
       " 'Strongly Agree': 3,\n",
       " 'Neither Agree nor Disagree': 2,\n",
       " 'Strongly Disagree': 1}"
      ]
     },
     "execution_count": 65,
     "metadata": {},
     "output_type": "execute_result"
    }
   ],
   "source": [
    "(reg := {'Somewhat Agree' :5,\n",
    " 'Somewhat Disagree':4,\n",
    " 'Strongly Agree':3,\n",
    " 'Neither Agree nor Disagree':2,\n",
    " 'Strongly Disagree':1}\n",
    ")"
   ]
  },
  {
   "cell_type": "code",
   "execution_count": 66,
   "id": "2d792ba8-4614-49cb-a16e-c422d043d5f1",
   "metadata": {},
   "outputs": [
    {
     "data": {
      "text/plain": [
       "{'Somewhat Agree': 1,\n",
       " 'Somewhat Disagree': 2,\n",
       " 'Strongly Agree': 3,\n",
       " 'Neither Agree nor Disagree': 4,\n",
       " 'Strongly Disagree': 5}"
      ]
     },
     "execution_count": 66,
     "metadata": {},
     "output_type": "execute_result"
    }
   ],
   "source": [
    "(rev := {'Somewhat Agree' :1,\n",
    " 'Somewhat Disagree':2,\n",
    " 'Strongly Agree':3,\n",
    " 'Neither Agree nor Disagree':4,\n",
    " 'Strongly Disagree':5}\n",
    ")"
   ]
  },
  {
   "cell_type": "code",
   "execution_count": 67,
   "id": "54af3949-fe7e-4660-8011-79675520278c",
   "metadata": {},
   "outputs": [
    {
     "data": {
      "text/plain": [
       "['F1',\n",
       " 'F5',\n",
       " 'F2',\n",
       " 'F1.1',\n",
       " 'F2.1',\n",
       " 'F6',\n",
       " 'F4',\n",
       " 'F3',\n",
       " 'F5.1',\n",
       " 'F1.2',\n",
       " 'F2.2',\n",
       " 'F6.1',\n",
       " 'F2.3',\n",
       " 'F4.1',\n",
       " 'F2.4',\n",
       " 'F5.2',\n",
       " 'F2.5',\n",
       " 'F6.2',\n",
       " 'F1.3',\n",
       " 'F2.6',\n",
       " 'F5.3',\n",
       " 'F4.2',\n",
       " 'F2.7',\n",
       " 'F3.1',\n",
       " 'F2.8',\n",
       " 'F5.4',\n",
       " 'F3.2',\n",
       " 'F1.4',\n",
       " 'F3.3',\n",
       " 'F1.5',\n",
       " 'F5.5',\n",
       " 'F6.3',\n",
       " 'F1.6',\n",
       " 'F5.6',\n",
       " 'F2.9',\n",
       " 'F3.4',\n",
       " 'F4.3',\n",
       " 'F2.10',\n",
       " 'F1.7',\n",
       " 'F6.4',\n",
       " 'F4.4',\n",
       " 'F5.7',\n",
       " 'F3.5',\n",
       " 'F2.11']"
      ]
     },
     "execution_count": 67,
     "metadata": {},
     "output_type": "execute_result"
    }
   ],
   "source": [
    "(q_cols:= \n",
    " survey.drop('ID').columns\n",
    ")"
   ]
  },
  {
   "cell_type": "code",
   "execution_count": 84,
   "id": "c8b554dd-59c0-48ea-b4f6-d82787114122",
   "metadata": {},
   "outputs": [
    {
     "data": {
      "text/html": [
       "<div><style>\n",
       ".dataframe > thead > tr,\n",
       ".dataframe > tbody > tr {\n",
       "  text-align: right;\n",
       "  white-space: pre-wrap;\n",
       "}\n",
       "</style>\n",
       "<small>shape: (5, 7)</small><table border=\"1\" class=\"dataframe\"><thead><tr><th>ID</th><th>F1</th><th>F5</th><th>F2</th><th>F6</th><th>F4</th><th>F3</th></tr><tr><td>i64</td><td>i64</td><td>i64</td><td>i64</td><td>i64</td><td>i64</td><td>i64</td></tr></thead><tbody><tr><td>1</td><td>37</td><td>26</td><td>60</td><td>15</td><td>20</td><td>28</td></tr><tr><td>2</td><td>37</td><td>23</td><td>57</td><td>16</td><td>20</td><td>15</td></tr><tr><td>3</td><td>27</td><td>28</td><td>51</td><td>12</td><td>23</td><td>25</td></tr><tr><td>4</td><td>30</td><td>27</td><td>48</td><td>19</td><td>14</td><td>24</td></tr><tr><td>5</td><td>30</td><td>30</td><td>52</td><td>18</td><td>21</td><td>29</td></tr></tbody></table></div>"
      ],
      "text/plain": [
       "shape: (5, 7)\n",
       "┌─────┬─────┬─────┬─────┬─────┬─────┬─────┐\n",
       "│ ID  ┆ F1  ┆ F5  ┆ F2  ┆ F6  ┆ F4  ┆ F3  │\n",
       "│ --- ┆ --- ┆ --- ┆ --- ┆ --- ┆ --- ┆ --- │\n",
       "│ i64 ┆ i64 ┆ i64 ┆ i64 ┆ i64 ┆ i64 ┆ i64 │\n",
       "╞═════╪═════╪═════╪═════╪═════╪═════╪═════╡\n",
       "│ 1   ┆ 37  ┆ 26  ┆ 60  ┆ 15  ┆ 20  ┆ 28  │\n",
       "│ 2   ┆ 37  ┆ 23  ┆ 57  ┆ 16  ┆ 20  ┆ 15  │\n",
       "│ 3   ┆ 27  ┆ 28  ┆ 51  ┆ 12  ┆ 23  ┆ 25  │\n",
       "│ 4   ┆ 30  ┆ 27  ┆ 48  ┆ 19  ┆ 14  ┆ 24  │\n",
       "│ 5   ┆ 30  ┆ 30  ┆ 52  ┆ 18  ┆ 21  ┆ 29  │\n",
       "└─────┴─────┴─────┴─────┴─────┴─────┴─────┘"
      ]
     },
     "execution_count": 84,
     "metadata": {},
     "output_type": "execute_result"
    }
   ],
   "source": [
    "(survey\n",
    "    .unpivot(on=q_cols,\n",
    "             index= 'ID',\n",
    "    variable_name=\"Question\",\n",
    "    value_name=\"Response\"\n",
    "            )\n",
    "    .with_columns(reg_coding = pl.col('Response')\n",
    "                                 .replace(reg)\n",
    "                                .cast(pl.Int64()),\n",
    "                 rev_coding = pl.col('Response')\n",
    "                                 .replace(rev)\n",
    "                                .cast(pl.Int64()),\n",
    "                 )\n",
    " .join(reverse,\n",
    "       left_on='Question',\n",
    "       right_on='Column Name',\n",
    "       how='left')\n",
    " .with_columns(coding= pl.when(pl.col('Needs Reverse Coding?') =='Yes')\n",
    "                         .then('rev_coding')\n",
    "                        .otherwise('reg_coding'),\n",
    "               q_type =pl.col('Question')\n",
    "                         .str.split('.')\n",
    "                         .list.get(0),\n",
    "              )\n",
    " .pivot(on = 'q_type', \n",
    "        index = 'ID',\n",
    "        values= 'coding',\n",
    "        aggregate_function ='sum',\n",
    "       )\n",
    ").head()\n",
    "             \n",
    "\n"
   ]
  },
  {
   "cell_type": "code",
   "execution_count": 92,
   "id": "20ba9b2c-921c-4028-aa30-68c0c31f7f61",
   "metadata": {},
   "outputs": [],
   "source": [
    "(survey\n",
    " .write_csv(\"C:/Users/ym5765bo/health_survey/data/health_survey_summary.\")\n",
    ")"
   ]
  },
  {
   "cell_type": "code",
   "execution_count": null,
   "id": "99b18913-ccdf-4ab1-8b03-250a48cf5976",
   "metadata": {},
   "outputs": [],
   "source": []
  }
 ],
 "metadata": {
  "kernelspec": {
   "display_name": "Python 3 (ipykernel)",
   "language": "python",
   "name": "python3"
  },
  "language_info": {
   "codemirror_mode": {
    "name": "ipython",
    "version": 3
   },
   "file_extension": ".py",
   "mimetype": "text/x-python",
   "name": "python",
   "nbconvert_exporter": "python",
   "pygments_lexer": "ipython3",
   "version": "3.12.11"
  }
 },
 "nbformat": 4,
 "nbformat_minor": 5
}
